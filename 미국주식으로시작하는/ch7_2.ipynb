{
 "cells": [
  {
   "cell_type": "code",
   "execution_count": 1,
   "metadata": {
    "colab": {
     "base_uri": "https://localhost:8080/"
    },
    "id": "V2WV1Eh7kLDK",
    "outputId": "00e4dbf0-dc9b-4366-a459-e51a1aa4e32e"
   },
   "outputs": [
    {
     "name": "stdout",
     "output_type": "stream",
     "text": [
      "Collecting finterstellar\n",
      "  Downloading https://files.pythonhosted.org/packages/78/50/ee98e50e817e58105d1d2ad137f30900e2d6feca703e7860a64998adfa21/finterstellar-0.1.6-py3-none-any.whl\n",
      "Installing collected packages: finterstellar\n",
      "Successfully installed finterstellar-0.1.6\n"
     ]
    }
   ],
   "source": [
    "pip install finterstellar"
   ]
  },
  {
   "cell_type": "code",
   "execution_count": 1,
   "metadata": {
    "id": "F4vvUOkNkJHv"
   },
   "outputs": [],
   "source": [
    "import finterstellar as fs"
   ]
  },
  {
   "cell_type": "code",
   "execution_count": 2,
   "metadata": {
    "id": "a8lMNg63kJHx"
   },
   "outputs": [],
   "source": [
    "df = fs.fn_single(otp='OTP', symbol='FB', window='T')"
   ]
  },
  {
   "cell_type": "code",
   "execution_count": 3,
   "metadata": {
    "colab": {
     "base_uri": "https://localhost:8080/"
    },
    "id": "A4vgRZhekJHy",
    "outputId": "cd68f9f5-a1ae-4acf-e097-3689880150f7"
   },
   "outputs": [
    {
     "data": {
      "text/plain": [
       "Index(['Revenue', 'COGS', 'Gross Profit', 'SG&A', 'Operating Income',\n",
       "       'Net Income', 'EPS', 'EBITDA', 'EBIT', 'Shares', 'Cash & Equivalents',\n",
       "       'Receivables', 'Current Assets', 'Long Term Assets', 'Total Assets',\n",
       "       'Current Debt', 'Current Liabilities', 'Long Term Debt',\n",
       "       'Long Term Liabilities', 'Total Liabilities', 'Shareholders Equity',\n",
       "       'Depreciation', 'Operating Cash Flow', 'Capital Expenditure',\n",
       "       'Investing cash flow', 'Dividends', 'Financing cash flow', 'Price'],\n",
       "      dtype='object')"
      ]
     },
     "execution_count": 3,
     "metadata": {},
     "output_type": "execute_result"
    }
   ],
   "source": [
    "df.columns"
   ]
  },
  {
   "cell_type": "code",
   "execution_count": 4,
   "metadata": {
    "colab": {
     "base_uri": "https://localhost:8080/"
    },
    "id": "GQySqX_6kJHz",
    "outputId": "27a7cde8-634e-40e7-955b-17bb57a87525"
   },
   "outputs": [
    {
     "data": {
      "text/plain": [
       "2020-06-30   227.07\n",
       "2020-09-30   261.90\n",
       "2020-12-31   273.16\n",
       "2021-03-31   294.53\n",
       "2021-06-30   347.71\n",
       "Name: Price, dtype: float64"
      ]
     },
     "execution_count": 4,
     "metadata": {},
     "output_type": "execute_result"
    }
   ],
   "source": [
    "df['Price'].tail()"
   ]
  },
  {
   "cell_type": "code",
   "execution_count": 5,
   "metadata": {
    "id": "vrQFWedmkJH0"
   },
   "outputs": [],
   "source": [
    "df['Avg Assets'] = ( df['Total Assets'] + df['Total Assets'].shift(4) ) /2\n",
    "df['ROA'] = df['Net Income'] / df['Avg Assets']\n",
    "df['Current Ratio'] = df['Current Assets'] / df['Current Liabilities']\n",
    "df['Debt/Asset'] = df['Long Term Debt'] / df['Total Assets']\n",
    "df['Gross Margin'] = df['Gross Profit'] / df['Revenue']\n",
    "df['Asset Turnover'] = df['Revenue'] / df['Avg Assets']"
   ]
  },
  {
   "cell_type": "code",
   "execution_count": 6,
   "metadata": {
    "id": "XWWLtt-FkJH0"
   },
   "outputs": [],
   "source": [
    "df['F_ROA'] = 0\n",
    "df['F_ROA_dt'] = 0\n",
    "df['F_CFO'] = 0\n",
    "df['F_Accrual'] = 0\n",
    "df['F_Liquid'] = 0\n",
    "df['F_Lever'] = 0\n",
    "df['F_Shares'] = 0\n",
    "df['F_Margin'] = 0\n",
    "df['F_Turn'] = 0\n",
    "df['F_Score'] = 0"
   ]
  },
  {
   "cell_type": "code",
   "execution_count": 7,
   "metadata": {
    "id": "IMBOzrP9kJH1"
   },
   "outputs": [],
   "source": [
    "df.loc[df['ROA']>0, 'F_ROA'] = 1\n",
    "df.loc[df['ROA']>df['ROA'].shift(4), 'F_ROA_dt'] = 1\n",
    "df.loc[df['Operating Cash Flow']>0, 'F_CFO'] = 1\n",
    "df.loc[df['Operating Cash Flow']-df['Net Income']>0, 'F_Accrual'] = 1\n",
    "df.loc[df['Current Ratio']-df['Current Ratio'].shift(4)>0, 'F_Liquid'] = 1\n",
    "df.loc[df['Debt/Asset']-df['Debt/Asset'].shift(4)<0, 'F_Lever'] = 1\n",
    "df.loc[df['Shares']-df['Shares'].shift(4)<=0, 'F_Shares'] = 1\n",
    "df.loc[df['Gross Margin']-df['Gross Margin'].shift(4)>0, 'F_Margin'] = 1\n",
    "df.loc[df['Asset Turnover']-df['Asset Turnover'].shift(4)>0, 'F_Turn'] = 1\n",
    "df['F_Score'] = df['F_ROA']+df['F_ROA_dt']+df['F_CFO']+df['F_Accrual']+df['F_Liquid']+df['F_Lever']+df['F_Shares']+df['F_Margin']+df['F_Turn']"
   ]
  },
  {
   "cell_type": "code",
   "execution_count": 8,
   "metadata": {
    "colab": {
     "base_uri": "https://localhost:8080/"
    },
    "id": "NSo1X0HjkJH1",
    "outputId": "a3fd944f-96aa-42a6-ae3e-dd9c3e7521a5"
   },
   "outputs": [
    {
     "name": "stdout",
     "output_type": "stream",
     "text": [
      "            F_Score  F_ROA  F_ROA_dt  F_CFO  F_Accrual  F_Liquid  F_Lever  \\\n",
      "2020-06-30        6      1         1      1          1         1        0   \n",
      "2020-09-30        6      1         1      1          1         1        0   \n",
      "2020-12-31        7      1         1      1          1         1        1   \n",
      "2021-03-31        8      1         1      1          1         1        1   \n",
      "2021-06-30        7      1         1      1          1         0        1   \n",
      "\n",
      "            F_Shares  F_Margin  F_Turn  \n",
      "2020-06-30         1         0       0  \n",
      "2020-09-30         1         0       0  \n",
      "2020-12-31         1         0       0  \n",
      "2021-03-31         1         0       1  \n",
      "2021-06-30         1         0       1  \n"
     ]
    }
   ],
   "source": [
    "print(df[['F_Score', 'F_ROA', 'F_ROA_dt', 'F_CFO', 'F_Accrual', 'F_Liquid', 'F_Lever', 'F_Shares', 'F_Margin', 'F_Turn']].tail())"
   ]
  },
  {
   "cell_type": "code",
   "execution_count": null,
   "metadata": {
    "id": "7D69F4LYkJH2"
   },
   "outputs": [],
   "source": []
  },
  {
   "cell_type": "code",
   "execution_count": 9,
   "metadata": {
    "colab": {
     "base_uri": "https://localhost:8080/"
    },
    "id": "iVWyZqlfkJH2",
    "outputId": "c0498b14-12e3-4b5c-d6c2-76713a800954"
   },
   "outputs": [
    {
     "name": "stdout",
     "output_type": "stream",
     "text": [
      "2010Q4...OK\n",
      "2011Q1...OK\n",
      "2011Q2...OK\n",
      "2011Q3...OK\n",
      "2011Q4...OK\n",
      "2012Q1...OK\n",
      "2012Q2...OK\n",
      "2012Q3...OK\n",
      "2012Q4...OK\n",
      "2013Q1...OK\n",
      "2013Q2...OK\n",
      "2013Q3...OK\n",
      "2013Q4...OK\n",
      "2014Q1...OK\n",
      "2014Q2...OK\n",
      "2014Q3...OK\n",
      "2014Q4...OK\n",
      "2015Q1...OK\n",
      "2015Q2...OK\n",
      "2015Q3...OK\n",
      "2015Q4...OK\n",
      "2016Q1...OK\n",
      "2016Q2...OK\n",
      "2016Q3...OK\n",
      "2016Q4...OK\n",
      "2017Q1...OK\n",
      "2017Q2...OK\n",
      "2017Q3...OK\n",
      "2017Q4...OK\n",
      "2018Q1...OK\n",
      "2018Q2...OK\n",
      "2018Q3...OK\n",
      "2018Q4...OK\n",
      "2019Q1...OK\n",
      "2019Q2...OK\n",
      "2019Q3...OK\n",
      "2019Q4...OK\n",
      "2020Q1...OK\n",
      "2020Q2...OK\n",
      "2020Q3...OK\n",
      "2020Q4...OK\n"
     ]
    }
   ],
   "source": [
    "# Piotroski 준비작업\n",
    "terms = fs.set_terms(trade_start='2011Q1', trade_end='2021Q1')\n",
    "data = {}\n",
    "for t in terms:\n",
    "    data[t] = fs.fn_consolidated(otp='OTP', term=t, vol=0)\n",
    "for t in terms:\n",
    "    prev_t = fs.quarters_before(terms, t, 4)\n",
    "    data[t]['Market Cap'] = data[t]['Price_M3'] * data[t]['Shares']    \n",
    "    data[t]['PBR'] = data[t]['Price_M3'] / ( data[t]['Shareholders Equity'] / data[t]['Shares'] )\n",
    "    data[t]['Avg Assets'] =  ( data[t]['Total Assets'] + data[prev_t]['Total Assets'] ) / 2\n",
    "    data[t]['ROA'] = data[t]['Net Income'] / data[t]['Avg Assets']\n",
    "    data[t]['Current Ratio'] = data[t]['Current Assets'] / data[t]['Current Liabilities']\n",
    "    data[t]['Debt/Asset'] = data[t]['Long Term Debt'] / data[t]['Total Assets']\n",
    "    data[t]['Gross Margin'] = data[t]['Gross Profit'] / data[t]['Revenue']\n",
    "    data[t]['Asset Turnover'] = data[t]['Revenue'] / data[t]['Avg Assets']\n",
    "    \n",
    "    data[t]['F_ROA'] = 0\n",
    "    data[t]['F_ROA_dt'] = 0\n",
    "    data[t]['F_CFO'] = 0\n",
    "    data[t]['F_Accrual'] = 0\n",
    "    data[t]['F_Liquid'] = 0\n",
    "    data[t]['F_Lever'] = 0\n",
    "    data[t]['F_Shares'] = 0\n",
    "    data[t]['F_Margin'] = 0\n",
    "    data[t]['F_Turn'] = 0\n",
    "    data[t]['F_Score'] = 0\n",
    "    \n",
    "    data[t].loc[data[t]['ROA']>0, 'F_ROA'] = 1\n",
    "    data[t].loc[data[t]['ROA']-data[prev_t]['ROA']>0, 'F_ROA_dt'] = 1\n",
    "    data[t].loc[data[t]['Operating Cash Flow']>0, 'F_CFO'] = 1\n",
    "    data[t].loc[data[t]['Operating Cash Flow']-data[t]['Net Income']>0, 'F_Accrual'] = 1\n",
    "    data[t].loc[data[t]['Current Ratio']-data[prev_t]['Current Ratio']>0, 'F_Liquid'] = 1\n",
    "    data[t].loc[data[t]['Debt/Asset']-data[prev_t]['Debt/Asset']<0, 'F_Lever'] = 1\n",
    "    data[t].loc[data[t]['Shares']-data[prev_t]['Shares']<=0, 'F_Shares'] = 1\n",
    "    data[t].loc[data[t]['Gross Margin']-data[prev_t]['Gross Margin']>0, 'F_Margin'] = 1\n",
    "    data[t].loc[data[t]['Asset Turnover']-data[prev_t]['Asset Turnover']>0, 'F_Turn'] = 1\n",
    "    data[t]['F_Score'] = data[t]['F_ROA']+data[t]['F_ROA_dt']+data[t]['F_CFO']+data[t]['F_Accrual']+data[t]['F_Liquid']+data[t]['F_Lever']+data[t]['F_Shares']+data[t]['F_Margin']+data[t]['F_Turn']"
   ]
  },
  {
   "cell_type": "code",
   "execution_count": 10,
   "metadata": {
    "colab": {
     "base_uri": "https://localhost:8080/"
    },
    "id": "0dLpZpjzkJH2",
    "outputId": "643fca21-7022-4735-b2a3-4682a74bdc85"
   },
   "outputs": [
    {
     "name": "stdout",
     "output_type": "stream",
     "text": [
      "CAGR: 26.32%\n",
      "Accumulated return: 936.55%\n",
      "Investment period: 10.0yrs\n",
      "Sharpe ratio: 2.62\n",
      "MDD: -23.83%\n"
     ]
    }
   ],
   "source": [
    "# High F-Score\n",
    "s1 = {}\n",
    "s2 = {}\n",
    "s3 = {}\n",
    "s = {}\n",
    "signal = {}\n",
    "for t in terms:\n",
    "    s1[t] = fs.fn_filter(data[t], by='Market Cap', floor=0, n=1000, asc=True)\n",
    "    s2[t] = fs.fn_filter(data[t], by='PBR', floor=.1, cap=1, asc=True)\n",
    "    s3[t] = fs.fn_filter(data[t], by='F_Score', floor=7, cap=9, asc=False)\n",
    "    s[t] = fs.combine_signal(s1[t], s2[t], s3[t]).sample(frac=1)[:30]\n",
    "    signal[t] = list(s[t].index)\n",
    "df = fs.backtest(signal=signal, data=data, m=3, cost=.001)"
   ]
  },
  {
   "cell_type": "code",
   "execution_count": 11,
   "metadata": {
    "colab": {
     "base_uri": "https://localhost:8080/"
    },
    "id": "jmB_5MXWkJH3",
    "outputId": "f99e19da-b38a-428a-bc8e-4210e2288c11"
   },
   "outputs": [
    {
     "name": "stdout",
     "output_type": "stream",
     "text": [
      "CAGR: 18.53%\n",
      "Accumulated return: 448.03%\n",
      "Investment period: 10.0yrs\n",
      "Sharpe ratio: 1.41\n",
      "MDD: -42.42%\n"
     ]
    }
   ],
   "source": [
    "# Mid F-Score\n",
    "s1 = {}\n",
    "s2 = {}\n",
    "s3 = {}\n",
    "s = {}\n",
    "signal = {}\n",
    "for t in terms:\n",
    "    s1[t] = fs.fn_filter(data[t], by='Market Cap', floor=0, n=1000, asc=True)\n",
    "    s2[t] = fs.fn_filter(data[t], by='PBR', floor=.1, cap=1, asc=True)\n",
    "    s3[t] = fs.fn_filter(data[t], by='F_Score', floor=4, cap=6, asc=False)\n",
    "    s[t] = fs.combine_signal(s1[t], s2[t], s3[t]).sample(frac=1)[:30]\n",
    "    signal[t] = list(s[t].index)\n",
    "df = fs.backtest(signal=signal, data=data, m=3, cost=.001)"
   ]
  },
  {
   "cell_type": "code",
   "execution_count": 12,
   "metadata": {
    "colab": {
     "base_uri": "https://localhost:8080/"
    },
    "id": "x5G7Lb2hkJH3",
    "outputId": "8b84db68-8071-4fff-84e4-cb064e84cadc"
   },
   "outputs": [
    {
     "name": "stdout",
     "output_type": "stream",
     "text": [
      "CAGR: 13.55%\n",
      "Accumulated return: 256.76%\n",
      "Investment period: 10.0yrs\n",
      "Sharpe ratio: 0.66\n",
      "MDD: -54.15%\n"
     ]
    }
   ],
   "source": [
    "# Low F-Score\n",
    "s1 = {}\n",
    "s2 = {}\n",
    "s3 = {}\n",
    "s = {}\n",
    "signal = {}\n",
    "for t in terms:\n",
    "    s1[t] = fs.fn_filter(data[t], by='Market Cap', floor=0, n=1000, asc=True)\n",
    "    s2[t] = fs.fn_filter(data[t], by='PBR', floor=.1, cap=1, asc=True)\n",
    "    s3[t] = fs.fn_filter(data[t], by='F_Score', floor=0, cap=3, asc=False)\n",
    "    s[t] = fs.combine_signal(s1[t], s2[t], s3[t]).sample(frac=1)[:30]\n",
    "    signal[t] = list(s[t].index)\n",
    "df = fs.backtest(signal=signal, data=data, m=3, cost=.001)"
   ]
  },
  {
   "cell_type": "code",
   "execution_count": 13,
   "metadata": {
    "colab": {
     "base_uri": "https://localhost:8080/",
     "height": 359
    },
    "id": "pzv031C5kJH3",
    "outputId": "7443b2a5-7947-4a8c-b6b1-fe7bad0d5d13"
   },
   "outputs": [
    {
     "data": {
      "image/png": "[encoded data removed]",
      "text/plain": [
       "<Figure size 720x360 with 2 Axes>"
      ]
     },
     "metadata": {
      "needs_background": "light"
     },
     "output_type": "display_data"
    }
   ],
   "source": [
    "fs.draw_return(df)"
   ]
  },
  {
   "cell_type": "code",
   "execution_count": null,
   "metadata": {
    "id": "WxumV1wJkJH4"
   },
   "outputs": [],
   "source": []
  },
  {
   "cell_type": "code",
   "execution_count": 15,
   "metadata": {
    "colab": {
     "base_uri": "https://localhost:8080/"
    },
    "id": "IuFy8qFEkJH4",
    "outputId": "7ce0d16b-3a45-4c86-9abe-83db77aa5413"
   },
   "outputs": [
    {
     "name": "stdout",
     "output_type": "stream",
     "text": [
      "=== 1~3 ===\n",
      "CAGR: 22.86%\n",
      "Accumulated return: 645.48%\n",
      "Investment period: 9.8yrs\n",
      "Sharpe ratio: 1.71\n",
      "MDD: -47.38%\n",
      "1000 612 1266 30\n",
      "=== 4~6 ===\n",
      "CAGR: 24.55%\n",
      "Accumulated return: 752.00%\n",
      "Investment period: 9.8yrs\n",
      "Sharpe ratio: 2.79\n",
      "MDD: -20.41%\n",
      "1000 612 2322 30\n",
      "=== 7~9 ===\n",
      "CAGR: 22.92%\n",
      "Accumulated return: 648.98%\n",
      "Investment period: 9.8yrs\n",
      "Sharpe ratio: 2.82\n",
      "MDD: -24.01%\n",
      "1000 612 524 26\n"
     ]
    }
   ],
   "source": [
    "for p in range(1,8,3):\n",
    "    print('=== {}~{} ==='.format(p, p+2))\n",
    "    s1 = {}\n",
    "    s2 = {}\n",
    "    s = {}\n",
    "    signal = {}\n",
    "    prev_t = terms[0]\n",
    "    for t in terms[1:]:    \n",
    "        s1[t] = fs.fn_filter(data[t], by='Market Cap', floor=0, n=1000, asc=True)\n",
    "        s2[t] = fs.fn_filter(data[t], by='PBR', floor=.1, cap=1, asc=True)\n",
    "        s3[t] = fs.fn_filter(data[t], by='F_Score', floor=p, cap=p+2, asc=False)\n",
    "        s[t] = fs.combine_signal(s1[t], s2[t], s3[t]).sample(frac=1)[:30]\n",
    "        signal[t] = list(s[t].index)\n",
    "    df = fs.backtest(signal=signal, data=data, m=3, cost=.001)\n",
    "    print(len(s1[t]), len(s2[t]), len(s3[t]), len(s[t]))"
   ]
  },
  {
   "cell_type": "code",
   "execution_count": 23,
   "metadata": {
    "id": "LpnoTFRfkJH4"
   },
   "outputs": [],
   "source": []
  }
 ],
 "metadata": {
  "colab": {
   "collapsed_sections": [],
   "name": "ch7-2.ipynb",
   "provenance": []
  },
  "kernelspec": {
   "display_name": "Python 3",
   "language": "python",
   "name": "python3"
  },
  "language_info": {
   "codemirror_mode": {
    "name": "ipython",
    "version": 3
   },
   "file_extension": ".py",
   "mimetype": "text/x-python",
   "name": "python",
   "nbconvert_exporter": "python",
   "pygments_lexer": "ipython3",
   "version": "3.8.6"
  }
 },
 "nbformat": 4,
 "nbformat_minor": 4
}
