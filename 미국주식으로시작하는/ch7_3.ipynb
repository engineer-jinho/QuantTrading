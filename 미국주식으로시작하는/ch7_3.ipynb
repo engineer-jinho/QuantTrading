{
 "cells": [
  {
   "cell_type": "code",
   "execution_count": null,
   "metadata": {
    "colab": {
     "base_uri": "https://localhost:8080/"
    },
    "id": "tcvWK8jApy-H",
    "outputId": "9dbc55d8-5c21-4ba2-87e8-3a17829953e4"
   },
   "outputs": [],
   "source": [
    "pip install finterstellar"
   ]
  },
  {
   "cell_type": "code",
   "execution_count": 9,
   "metadata": {
    "id": "9EuTmS-Opx5a"
   },
   "outputs": [],
   "source": [
    "import finterstellar as fs"
   ]
  },
  {
   "cell_type": "code",
   "execution_count": 10,
   "metadata": {
    "colab": {
     "base_uri": "https://localhost:8080/"
    },
    "id": "_-piYofVpx5c",
    "outputId": "1afb00a3-846c-4259-9ba6-f800cd874679"
   },
   "outputs": [
    {
     "name": "stdout",
     "output_type": "stream",
     "text": [
      "2020Q4...OK\n"
     ]
    },
    {
     "data": {
      "text/plain": [
       "symbol\n",
       "A        1307200\n",
       "AA       3443600\n",
       "AAIC      202700\n",
       "AAL     57891100\n",
       "AAN       541700\n",
       "          ...   \n",
       "ZUMZ      149500\n",
       "ZUO      1354700\n",
       "ZVO       364600\n",
       "ZYME      218900\n",
       "ZYXI      289300\n",
       "Name: avg_volume, Length: 3133, dtype: int64"
      ]
     },
     "execution_count": 10,
     "metadata": {},
     "output_type": "execute_result"
    }
   ],
   "source": [
    "data = fs.fn_consolidated(otp='OTP', term='2020Q4')\n",
    "data['avg_volume']"
   ]
  },
  {
   "cell_type": "code",
   "execution_count": 11,
   "metadata": {
    "colab": {
     "base_uri": "https://localhost:8080/"
    },
    "id": "BCHSDmXqpx5d",
    "outputId": "263f5c55-e1a5-4666-91d0-ebb9ab50d5cc"
   },
   "outputs": [
    {
     "name": "stdout",
     "output_type": "stream",
     "text": [
      "2020Q4...OK\n"
     ]
    },
    {
     "data": {
      "text/plain": [
       "symbol\n",
       "A        1307200\n",
       "AA       3443600\n",
       "AAIC      202700\n",
       "AAL     57891100\n",
       "AAME        7800\n",
       "          ...   \n",
       "ZUMZ      149500\n",
       "ZUO      1354700\n",
       "ZVO       364600\n",
       "ZYME      218900\n",
       "ZYXI      289300\n",
       "Name: avg_volume, Length: 4169, dtype: int64"
      ]
     },
     "execution_count": 11,
     "metadata": {},
     "output_type": "execute_result"
    }
   ],
   "source": [
    "data = fs.fn_consolidated(otp='OTP', term='2020Q4', vol=0)\n",
    "data['avg_volume']"
   ]
  },
  {
   "cell_type": "code",
   "execution_count": 12,
   "metadata": {
    "colab": {
     "base_uri": "https://localhost:8080/"
    },
    "id": "3dLkTHhQpx5e",
    "outputId": "030bdd27-eda7-45ca-fa64-1475670bf768"
   },
   "outputs": [
    {
     "name": "stdout",
     "output_type": "stream",
     "text": [
      "2020Q4...OK\n"
     ]
    },
    {
     "data": {
      "text/plain": [
       "symbol\n",
       "A        1307200\n",
       "AA       3443600\n",
       "AAL     57891100\n",
       "AAPL    99116600\n",
       "ABBV     6148100\n",
       "          ...   \n",
       "ZNGA    12415400\n",
       "ZS       1469600\n",
       "ZTO      1883100\n",
       "ZTS      1292600\n",
       "ZUO      1354700\n",
       "Name: avg_volume, Length: 996, dtype: int64"
      ]
     },
     "execution_count": 12,
     "metadata": {},
     "output_type": "execute_result"
    }
   ],
   "source": [
    "data = fs.fn_consolidated(otp='OTP', term='2020Q4', vol=1000000)\n",
    "data['avg_volume']"
   ]
  },
  {
   "cell_type": "code",
   "execution_count": 13,
   "metadata": {
    "colab": {
     "base_uri": "https://localhost:8080/"
    },
    "id": "9eoGSbV1px5e",
    "outputId": "bc12c64b-8cfb-42d9-acb6-da3eb2ae86d7"
   },
   "outputs": [
    {
     "name": "stdout",
     "output_type": "stream",
     "text": [
      "2010Q4...OK\n",
      "2011Q1...OK\n",
      "2011Q2...OK\n",
      "2011Q3...OK\n",
      "2011Q4...OK\n",
      "2012Q1...OK\n",
      "2012Q2...OK\n",
      "2012Q3...OK\n",
      "2012Q4...OK\n",
      "2013Q1...OK\n",
      "2013Q2...OK\n",
      "2013Q3...OK\n",
      "2013Q4...OK\n",
      "2014Q1...OK\n",
      "2014Q2...OK\n",
      "2014Q3...OK\n",
      "2014Q4...OK\n",
      "2015Q1...OK\n",
      "2015Q2...OK\n",
      "2015Q3...OK\n",
      "2015Q4...OK\n",
      "2016Q1...OK\n",
      "2016Q2...OK\n",
      "2016Q3...OK\n",
      "2016Q4...OK\n",
      "2017Q1...OK\n",
      "2017Q2...OK\n",
      "2017Q3...OK\n",
      "2017Q4...OK\n",
      "2018Q1...OK\n",
      "2018Q2...OK\n",
      "2018Q3...OK\n",
      "2018Q4...OK\n",
      "2019Q1...OK\n",
      "2019Q2...OK\n",
      "2019Q3...OK\n",
      "2019Q4...OK\n",
      "2020Q1...OK\n",
      "2020Q2...OK\n",
      "2020Q3...OK\n",
      "2020Q4...OK\n"
     ]
    }
   ],
   "source": [
    "# finterstellar\n",
    "# Set test terms by fiscal years\n",
    "terms = fs.set_terms(trade_start='2011Q1', trade_end='2021Q1')\n",
    "data = {}\n",
    "for t in terms:\n",
    "    data[t] = fs.fn_consolidated(otp='OTP', term=t)\n",
    "for t in terms:\n",
    "    # Set previous terms\n",
    "    prev_t = fs.quarters_before(terms, t, 4)\n",
    "    # Company size\n",
    "    data[t]['Market Cap'] = data[t]['Price_M3'] * data[t]['Shares']    \n",
    "    # Value\n",
    "    data[t]['PER'] = data[t]['Price_M3'] / data[t]['EPS']    \n",
    "    data[t]['PBR'] = data[t]['Price_M3'] / (data[t]['Shareholders Equity']/data[t]['Shares'])\n",
    "    data[t]['PSR'] = data[t]['Price_M3'] / (data[t]['Revenue'] / data[t]['Shares'])\n",
    "    data[t]['PCR'] = data[t]['Price_M3'] / ( ( data[t]['Net Income'] + data[t]['Depreciation'] ) / data[t]['Shares'] )\n",
    "    # Profitability\n",
    "    data[t]['Avg Assets'] = ( data[t]['Total Assets'] + data[prev_t]['Total Assets'] ) / 2\n",
    "    data[t]['Avg Equity'] = ( data[t]['Shareholders Equity'] + data[prev_t]['Shareholders Equity'] ) / 2\n",
    "    data[t]['ROA'] = data[t]['Net Income'] / data[t]['Avg Assets']\n",
    "    data[t].loc[(data[t]['Net Income']<0) | (data[t]['Avg Assets']<0) | (data[t]['Total Assets']<0), 'ROA'] = float('nan')\n",
    "    data[t]['ROE'] = data[t]['Net Income'] / data[t]['Avg Equity']\n",
    "    data[t].loc[(data[t]['Net Income']<0) | (data[t]['Avg Equity']<0) | (data[t]['Shareholders Equity']<0), 'ROE'] = float('nan')\n",
    "    data[t]['GP/A'] = data[t]['Gross Profit'] / data[t]['Avg Assets']   \n",
    "    data[t].loc[(data[t]['Gross Profit']<0) | (data[t]['Avg Assets']<0) | (data[t]['Total Assets']<0), 'GP/A'] = float('nan') \n",
    "    data[t]['GP/E'] = data[t]['Gross Profit'] / data[t]['Avg Equity']\n",
    "    # Stability\n",
    "    data[t]['Liability/Equity'] = data[t]['Total Liabilities'] / data[t]['Shareholders Equity']\n",
    "    data[t].loc[(data[t]['Shareholders Equity']<0), 'Liability/Equity'] = float('nan')\n",
    "    data[t]['Debt/Equity'] = (data[t]['Long Term Debt'] + data[t]['Current Debt']) / data[t]['Shareholders Equity']\n",
    "    data[t].loc[(data[t]['Shareholders Equity']<0), 'Debt/Equity'] = float('nan')\n",
    "    data[t]['Current Ratio'] = data[t]['Current Assets'] / data[t]['Current Liabilities']\n",
    "    data[t]['Share Increase'] =  data[t]['Shares'] / data[prev_t]['Shares'] \n",
    "    # Efficiency\n",
    "    data[t]['Gross Margin'] = data[t]['Gross Profit'] / data[t]['Revenue']\n",
    "    data[t]['Asset Turnover'] = data[t]['Revenue'] / data[t]['Avg Assets']\n",
    "    data[t]['Equity Turnover'] = data[t]['Revenue'] / data[t]['Avg Equity']\n",
    "    # Momentum\n",
    "    data[t]['Price Growth'] =  data[t]['Price_M3'] / data[prev_t]['Price_M3'] "
   ]
  },
  {
   "cell_type": "code",
   "execution_count": 14,
   "metadata": {
    "colab": {
     "base_uri": "https://localhost:8080/",
     "height": 759
    },
    "id": "KeKCcBzhpx5f",
    "outputId": "cfbdca45-9821-45af-c3e3-1e9cb1bc1f42"
   },
   "outputs": [
    {
     "data": {
      "text/html": [
       "<div>\n",
       "<style scoped>\n",
       "    .dataframe tbody tr th:only-of-type {\n",
       "        vertical-align: middle;\n",
       "    }\n",
       "\n",
       "    .dataframe tbody tr th {\n",
       "        vertical-align: top;\n",
       "    }\n",
       "\n",
       "    .dataframe thead th {\n",
       "        text-align: right;\n",
       "    }\n",
       "</style>\n",
       "<table border=\"1\" class=\"dataframe\">\n",
       "  <thead>\n",
       "    <tr style=\"text-align: right;\">\n",
       "      <th></th>\n",
       "      <th>term</th>\n",
       "      <th>Revenue</th>\n",
       "      <th>COGS</th>\n",
       "      <th>Gross Profit</th>\n",
       "      <th>SG&amp;A</th>\n",
       "      <th>Operating Income</th>\n",
       "      <th>Net Income</th>\n",
       "      <th>EPS</th>\n",
       "      <th>EBITDA</th>\n",
       "      <th>EBIT</th>\n",
       "      <th>...</th>\n",
       "      <th>GP/A</th>\n",
       "      <th>GP/E</th>\n",
       "      <th>Liability/Equity</th>\n",
       "      <th>Debt/Equity</th>\n",
       "      <th>Current Ratio</th>\n",
       "      <th>Share Increase</th>\n",
       "      <th>Gross Margin</th>\n",
       "      <th>Asset Turnover</th>\n",
       "      <th>Equity Turnover</th>\n",
       "      <th>Price Growth</th>\n",
       "    </tr>\n",
       "    <tr>\n",
       "      <th>symbol</th>\n",
       "      <th></th>\n",
       "      <th></th>\n",
       "      <th></th>\n",
       "      <th></th>\n",
       "      <th></th>\n",
       "      <th></th>\n",
       "      <th></th>\n",
       "      <th></th>\n",
       "      <th></th>\n",
       "      <th></th>\n",
       "      <th></th>\n",
       "      <th></th>\n",
       "      <th></th>\n",
       "      <th></th>\n",
       "      <th></th>\n",
       "      <th></th>\n",
       "      <th></th>\n",
       "      <th></th>\n",
       "      <th></th>\n",
       "      <th></th>\n",
       "      <th></th>\n",
       "    </tr>\n",
       "  </thead>\n",
       "  <tbody>\n",
       "    <tr>\n",
       "      <th>A</th>\n",
       "      <td>2010Q4</td>\n",
       "      <td>5,444.00</td>\n",
       "      <td>2,514.00</td>\n",
       "      <td>2,930.00</td>\n",
       "      <td>1,752.00</td>\n",
       "      <td>566.00</td>\n",
       "      <td>684.00</td>\n",
       "      <td>1.97</td>\n",
       "      <td>768.00</td>\n",
       "      <td>566.00</td>\n",
       "      <td>...</td>\n",
       "      <td>0.30</td>\n",
       "      <td>0.91</td>\n",
       "      <td>2.00</td>\n",
       "      <td>1.14</td>\n",
       "      <td>2.00</td>\n",
       "      <td>1.00</td>\n",
       "      <td>0.54</td>\n",
       "      <td>0.56</td>\n",
       "      <td>1.68</td>\n",
       "      <td>1.00</td>\n",
       "    </tr>\n",
       "    <tr>\n",
       "      <th>AAL</th>\n",
       "      <td>2010Q4</td>\n",
       "      <td>22,170.00</td>\n",
       "      <td>18,040.00</td>\n",
       "      <td>4,130.00</td>\n",
       "      <td>0.00</td>\n",
       "      <td>308.00</td>\n",
       "      <td>-471.00</td>\n",
       "      <td>-1.41</td>\n",
       "      <td>308.00</td>\n",
       "      <td>308.00</td>\n",
       "      <td>...</td>\n",
       "      <td>0.16</td>\n",
       "      <td>-1.05</td>\n",
       "      <td>nan</td>\n",
       "      <td>nan</td>\n",
       "      <td>0.78</td>\n",
       "      <td>1.00</td>\n",
       "      <td>0.19</td>\n",
       "      <td>0.88</td>\n",
       "      <td>-5.62</td>\n",
       "      <td>1.00</td>\n",
       "    </tr>\n",
       "    <tr>\n",
       "      <th>AAP</th>\n",
       "      <td>2010Q4</td>\n",
       "      <td>5,925.20</td>\n",
       "      <td>2,963.89</td>\n",
       "      <td>2,961.32</td>\n",
       "      <td>2,376.38</td>\n",
       "      <td>584.93</td>\n",
       "      <td>344.50</td>\n",
       "      <td>4.00</td>\n",
       "      <td>749.37</td>\n",
       "      <td>584.93</td>\n",
       "      <td>...</td>\n",
       "      <td>0.88</td>\n",
       "      <td>2.85</td>\n",
       "      <td>2.23</td>\n",
       "      <td>0.29</td>\n",
       "      <td>1.15</td>\n",
       "      <td>1.00</td>\n",
       "      <td>0.50</td>\n",
       "      <td>1.77</td>\n",
       "      <td>5.70</td>\n",
       "      <td>1.00</td>\n",
       "    </tr>\n",
       "    <tr>\n",
       "      <th>AAPL</th>\n",
       "      <td>2010Q4</td>\n",
       "      <td>76,283.00</td>\n",
       "      <td>46,712.00</td>\n",
       "      <td>29,571.00</td>\n",
       "      <td>6,125.00</td>\n",
       "      <td>21,487.00</td>\n",
       "      <td>16,639.00</td>\n",
       "      <td>0.65</td>\n",
       "      <td>22,661.00</td>\n",
       "      <td>21,487.00</td>\n",
       "      <td>...</td>\n",
       "      <td>0.34</td>\n",
       "      <td>0.54</td>\n",
       "      <td>0.59</td>\n",
       "      <td>0.00</td>\n",
       "      <td>1.85</td>\n",
       "      <td>1.00</td>\n",
       "      <td>0.39</td>\n",
       "      <td>0.88</td>\n",
       "      <td>1.40</td>\n",
       "      <td>1.00</td>\n",
       "    </tr>\n",
       "    <tr>\n",
       "      <th>AAU</th>\n",
       "      <td>2010Q4</td>\n",
       "      <td>0.23</td>\n",
       "      <td>0.00</td>\n",
       "      <td>0.23</td>\n",
       "      <td>4.12</td>\n",
       "      <td>-3.89</td>\n",
       "      <td>-3.39</td>\n",
       "      <td>-0.07</td>\n",
       "      <td>-3.71</td>\n",
       "      <td>-3.89</td>\n",
       "      <td>...</td>\n",
       "      <td>0.01</td>\n",
       "      <td>0.01</td>\n",
       "      <td>0.02</td>\n",
       "      <td>0.00</td>\n",
       "      <td>45.98</td>\n",
       "      <td>1.00</td>\n",
       "      <td>1.00</td>\n",
       "      <td>0.01</td>\n",
       "      <td>0.01</td>\n",
       "      <td>1.00</td>\n",
       "    </tr>\n",
       "    <tr>\n",
       "      <th>...</th>\n",
       "      <td>...</td>\n",
       "      <td>...</td>\n",
       "      <td>...</td>\n",
       "      <td>...</td>\n",
       "      <td>...</td>\n",
       "      <td>...</td>\n",
       "      <td>...</td>\n",
       "      <td>...</td>\n",
       "      <td>...</td>\n",
       "      <td>...</td>\n",
       "      <td>...</td>\n",
       "      <td>...</td>\n",
       "      <td>...</td>\n",
       "      <td>...</td>\n",
       "      <td>...</td>\n",
       "      <td>...</td>\n",
       "      <td>...</td>\n",
       "      <td>...</td>\n",
       "      <td>...</td>\n",
       "      <td>...</td>\n",
       "      <td>...</td>\n",
       "    </tr>\n",
       "    <tr>\n",
       "      <th>ZBH</th>\n",
       "      <td>2010Q4</td>\n",
       "      <td>4,220.20</td>\n",
       "      <td>1,012.20</td>\n",
       "      <td>3,208.00</td>\n",
       "      <td>1,759.10</td>\n",
       "      <td>916.70</td>\n",
       "      <td>596.90</td>\n",
       "      <td>2.98</td>\n",
       "      <td>1,460.90</td>\n",
       "      <td>916.70</td>\n",
       "      <td>...</td>\n",
       "      <td>0.40</td>\n",
       "      <td>0.56</td>\n",
       "      <td>0.39</td>\n",
       "      <td>0.20</td>\n",
       "      <td>4.28</td>\n",
       "      <td>1.00</td>\n",
       "      <td>0.76</td>\n",
       "      <td>0.53</td>\n",
       "      <td>0.73</td>\n",
       "      <td>1.00</td>\n",
       "    </tr>\n",
       "    <tr>\n",
       "      <th>ZBRA</th>\n",
       "      <td>2010Q4</td>\n",
       "      <td>894.36</td>\n",
       "      <td>473.58</td>\n",
       "      <td>420.77</td>\n",
       "      <td>185.59</td>\n",
       "      <td>148.22</td>\n",
       "      <td>101.78</td>\n",
       "      <td>1.78</td>\n",
       "      <td>179.42</td>\n",
       "      <td>148.22</td>\n",
       "      <td>...</td>\n",
       "      <td>0.48</td>\n",
       "      <td>0.58</td>\n",
       "      <td>0.20</td>\n",
       "      <td>0.00</td>\n",
       "      <td>4.34</td>\n",
       "      <td>1.00</td>\n",
       "      <td>0.47</td>\n",
       "      <td>1.02</td>\n",
       "      <td>1.23</td>\n",
       "      <td>1.00</td>\n",
       "    </tr>\n",
       "    <tr>\n",
       "      <th>ZION</th>\n",
       "      <td>2010Q4</td>\n",
       "      <td>2,760.31</td>\n",
       "      <td>592.46</td>\n",
       "      <td>2,167.85</td>\n",
       "      <td>2,545.50</td>\n",
       "      <td>-403.17</td>\n",
       "      <td>-412.50</td>\n",
       "      <td>-2.48</td>\n",
       "      <td>nan</td>\n",
       "      <td>nan</td>\n",
       "      <td>...</td>\n",
       "      <td>0.04</td>\n",
       "      <td>0.33</td>\n",
       "      <td>6.68</td>\n",
       "      <td>0.43</td>\n",
       "      <td>0.98</td>\n",
       "      <td>1.00</td>\n",
       "      <td>0.79</td>\n",
       "      <td>0.05</td>\n",
       "      <td>0.42</td>\n",
       "      <td>1.00</td>\n",
       "    </tr>\n",
       "    <tr>\n",
       "      <th>ZIXI</th>\n",
       "      <td>2010Q4</td>\n",
       "      <td>33.07</td>\n",
       "      <td>6.47</td>\n",
       "      <td>26.60</td>\n",
       "      <td>16.36</td>\n",
       "      <td>5.15</td>\n",
       "      <td>41.21</td>\n",
       "      <td>0.64</td>\n",
       "      <td>6.55</td>\n",
       "      <td>5.15</td>\n",
       "      <td>...</td>\n",
       "      <td>0.40</td>\n",
       "      <td>0.57</td>\n",
       "      <td>0.43</td>\n",
       "      <td>0.00</td>\n",
       "      <td>1.54</td>\n",
       "      <td>1.00</td>\n",
       "      <td>0.80</td>\n",
       "      <td>0.49</td>\n",
       "      <td>0.71</td>\n",
       "      <td>1.00</td>\n",
       "    </tr>\n",
       "    <tr>\n",
       "      <th>ZUMZ</th>\n",
       "      <td>2010Q4</td>\n",
       "      <td>455.09</td>\n",
       "      <td>299.94</td>\n",
       "      <td>155.15</td>\n",
       "      <td>128.76</td>\n",
       "      <td>26.40</td>\n",
       "      <td>18.00</td>\n",
       "      <td>0.61</td>\n",
       "      <td>45.63</td>\n",
       "      <td>26.39</td>\n",
       "      <td>...</td>\n",
       "      <td>0.52</td>\n",
       "      <td>0.74</td>\n",
       "      <td>0.44</td>\n",
       "      <td>0.00</td>\n",
       "      <td>3.22</td>\n",
       "      <td>1.00</td>\n",
       "      <td>0.34</td>\n",
       "      <td>1.51</td>\n",
       "      <td>2.18</td>\n",
       "      <td>1.00</td>\n",
       "    </tr>\n",
       "  </tbody>\n",
       "</table>\n",
       "<p>1424 rows × 57 columns</p>\n",
       "</div>"
      ],
      "text/plain": [
       "          term   Revenue      COGS  Gross Profit     SG&A  Operating Income  \\\n",
       "symbol                                                                        \n",
       "A       2010Q4  5,444.00  2,514.00      2,930.00 1,752.00            566.00   \n",
       "AAL     2010Q4 22,170.00 18,040.00      4,130.00     0.00            308.00   \n",
       "AAP     2010Q4  5,925.20  2,963.89      2,961.32 2,376.38            584.93   \n",
       "AAPL    2010Q4 76,283.00 46,712.00     29,571.00 6,125.00         21,487.00   \n",
       "AAU     2010Q4      0.23      0.00          0.23     4.12             -3.89   \n",
       "...        ...       ...       ...           ...      ...               ...   \n",
       "ZBH     2010Q4  4,220.20  1,012.20      3,208.00 1,759.10            916.70   \n",
       "ZBRA    2010Q4    894.36    473.58        420.77   185.59            148.22   \n",
       "ZION    2010Q4  2,760.31    592.46      2,167.85 2,545.50           -403.17   \n",
       "ZIXI    2010Q4     33.07      6.47         26.60    16.36              5.15   \n",
       "ZUMZ    2010Q4    455.09    299.94        155.15   128.76             26.40   \n",
       "\n",
       "        Net Income   EPS    EBITDA      EBIT  ...  GP/A  GP/E  \\\n",
       "symbol                                        ...               \n",
       "A           684.00  1.97    768.00    566.00  ...  0.30  0.91   \n",
       "AAL        -471.00 -1.41    308.00    308.00  ...  0.16 -1.05   \n",
       "AAP         344.50  4.00    749.37    584.93  ...  0.88  2.85   \n",
       "AAPL     16,639.00  0.65 22,661.00 21,487.00  ...  0.34  0.54   \n",
       "AAU          -3.39 -0.07     -3.71     -3.89  ...  0.01  0.01   \n",
       "...            ...   ...       ...       ...  ...   ...   ...   \n",
       "ZBH         596.90  2.98  1,460.90    916.70  ...  0.40  0.56   \n",
       "ZBRA        101.78  1.78    179.42    148.22  ...  0.48  0.58   \n",
       "ZION       -412.50 -2.48       nan       nan  ...  0.04  0.33   \n",
       "ZIXI         41.21  0.64      6.55      5.15  ...  0.40  0.57   \n",
       "ZUMZ         18.00  0.61     45.63     26.39  ...  0.52  0.74   \n",
       "\n",
       "        Liability/Equity  Debt/Equity  Current Ratio  Share Increase  \\\n",
       "symbol                                                                 \n",
       "A                   2.00         1.14           2.00            1.00   \n",
       "AAL                  nan          nan           0.78            1.00   \n",
       "AAP                 2.23         0.29           1.15            1.00   \n",
       "AAPL                0.59         0.00           1.85            1.00   \n",
       "AAU                 0.02         0.00          45.98            1.00   \n",
       "...                  ...          ...            ...             ...   \n",
       "ZBH                 0.39         0.20           4.28            1.00   \n",
       "ZBRA                0.20         0.00           4.34            1.00   \n",
       "ZION                6.68         0.43           0.98            1.00   \n",
       "ZIXI                0.43         0.00           1.54            1.00   \n",
       "ZUMZ                0.44         0.00           3.22            1.00   \n",
       "\n",
       "        Gross Margin  Asset Turnover  Equity Turnover  Price Growth  \n",
       "symbol                                                               \n",
       "A               0.54            0.56             1.68          1.00  \n",
       "AAL             0.19            0.88            -5.62          1.00  \n",
       "AAP             0.50            1.77             5.70          1.00  \n",
       "AAPL            0.39            0.88             1.40          1.00  \n",
       "AAU             1.00            0.01             0.01          1.00  \n",
       "...              ...             ...              ...           ...  \n",
       "ZBH             0.76            0.53             0.73          1.00  \n",
       "ZBRA            0.47            1.02             1.23          1.00  \n",
       "ZION            0.79            0.05             0.42          1.00  \n",
       "ZIXI            0.80            0.49             0.71          1.00  \n",
       "ZUMZ            0.34            1.51             2.18          1.00  \n",
       "\n",
       "[1424 rows x 57 columns]"
      ]
     },
     "execution_count": 14,
     "metadata": {},
     "output_type": "execute_result"
    }
   ],
   "source": [
    "data['2010Q4']"
   ]
  },
  {
   "cell_type": "code",
   "execution_count": 15,
   "metadata": {
    "colab": {
     "base_uri": "https://localhost:8080/"
    },
    "id": "avcdOjFwpx5f",
    "outputId": "1286c00a-3720-4df5-8b11-c54643ec1e4a"
   },
   "outputs": [
    {
     "name": "stdout",
     "output_type": "stream",
     "text": [
      "CAGR: 17.61%\n",
      "Accumulated return: 407.12%\n",
      "Investment period: 10.0yrs\n",
      "Sharpe ratio: 1.37\n",
      "MDD: -50.85%\n"
     ]
    }
   ],
   "source": [
    "# GP/E + 소형주 + 증자X + 중유동주\n",
    "s1 = {}\n",
    "s2 = {}\n",
    "s3 = {}\n",
    "s = {}\n",
    "signal = {}\n",
    "for t in terms:\n",
    "    s1[t] = fs.fn_score(data[t], by='GP/E', method='relative', floor=0, asc=False)    \n",
    "    s2[t] = fs.fn_filter(data[t], by='Market Cap', floor=0, n=1000, asc=True)\n",
    "    s3[t] = fs.fn_filter(data[t], by='Share Increase', floor=.9, cap=1)\n",
    "    s[t] = fs.combine_signal(s1[t], s2[t], s3[t], how='and', n=30)\n",
    "    signal[t] = list(s[t].index)\n",
    "df = fs.backtest(signal=signal, data=data, m=3, cost=.001)    "
   ]
  },
  {
   "cell_type": "code",
   "execution_count": 16,
   "metadata": {
    "colab": {
     "base_uri": "https://localhost:8080/",
     "height": 359
    },
    "id": "8jOVGAUppx5f",
    "outputId": "d0e8ee16-be0a-43d3-ecdd-9266d4ca6ca9"
   },
   "outputs": [
    {
     "data": {
      "image/png": "[encoded data removed]",
      "text/plain": [
       "<Figure size 720x360 with 2 Axes>"
      ]
     },
     "metadata": {
      "needs_background": "light"
     },
     "output_type": "display_data"
    }
   ],
   "source": [
    "fs.draw_return(df)"
   ]
  },
  {
   "cell_type": "code",
   "execution_count": null,
   "metadata": {
    "id": "BkNF6cXCpx5g"
   },
   "outputs": [],
   "source": []
  },
  {
   "cell_type": "code",
   "execution_count": 21,
   "metadata": {
    "colab": {
     "base_uri": "https://localhost:8080/"
    },
    "id": "jyl-JSfSpx5g",
    "outputId": "e8fa370f-acd1-4341-9797-41d27fa32080"
   },
   "outputs": [
    {
     "name": "stdout",
     "output_type": "stream",
     "text": [
      "2010Q4...OK\n",
      "2011Q1...OK\n",
      "2011Q2...OK\n",
      "2011Q3...OK\n",
      "2011Q4...OK\n",
      "2012Q1...OK\n",
      "2012Q2...OK\n",
      "2012Q3...OK\n",
      "2012Q4...OK\n",
      "2013Q1...OK\n",
      "2013Q2...OK\n",
      "2013Q3...OK\n",
      "2013Q4...OK\n",
      "2014Q1...OK\n",
      "2014Q2...OK\n",
      "2014Q3...OK\n",
      "2014Q4...OK\n",
      "2015Q1...OK\n",
      "2015Q2...OK\n",
      "2015Q3...OK\n",
      "2015Q4...OK\n",
      "2016Q1...OK\n",
      "2016Q2...OK\n",
      "2016Q3...OK\n",
      "2016Q4...OK\n",
      "2017Q1...OK\n",
      "2017Q2...OK\n",
      "2017Q3...OK\n",
      "2017Q4...OK\n",
      "2018Q1...OK\n",
      "2018Q2...OK\n",
      "2018Q3...OK\n",
      "2018Q4...OK\n",
      "2019Q1...OK\n",
      "2019Q2...OK\n",
      "2019Q3...OK\n",
      "2019Q4...OK\n",
      "2020Q1...OK\n",
      "2020Q2...OK\n",
      "2020Q3...OK\n",
      "2020Q4...OK\n"
     ]
    }
   ],
   "source": [
    "# finterstellar\n",
    "# Set test terms by fiscal years\n",
    "terms = fs.set_terms(trade_start='2011Q1', trade_end='2021Q1')\n",
    "data = {}\n",
    "for t in terms:\n",
    "    data[t] = fs.fn_consolidated(otp='OTP', term=t, vol=1000000)\n",
    "for t in terms:\n",
    "    # Set previous terms\n",
    "    prev_t = fs.quarters_before(terms, t, 4)\n",
    "    # Company size\n",
    "    data[t]['Market Cap'] = data[t]['Price_M3'] * data[t]['Shares']    \n",
    "    # Value\n",
    "    data[t]['PER'] = data[t]['Price_M3'] / data[t]['EPS']    \n",
    "    data[t]['PBR'] = data[t]['Price_M3'] / (data[t]['Shareholders Equity']/data[t]['Shares'])\n",
    "    data[t]['PSR'] = data[t]['Price_M3'] / (data[t]['Revenue'] / data[t]['Shares'])\n",
    "    data[t]['PCR'] = data[t]['Price_M3'] / ( ( data[t]['Net Income'] + data[t]['Depreciation'] ) / data[t]['Shares'] )\n",
    "    # Profitability\n",
    "    data[t]['Avg Assets'] = ( data[t]['Total Assets'] + data[prev_t]['Total Assets'] ) / 2\n",
    "    data[t]['Avg Equity'] = ( data[t]['Shareholders Equity'] + data[prev_t]['Shareholders Equity'] ) / 2\n",
    "    data[t]['ROA'] = data[t]['Net Income'] / data[t]['Avg Assets']\n",
    "    data[t].loc[(data[t]['Net Income']<0) | (data[t]['Avg Assets']<0) | (data[t]['Total Assets']<0), 'ROA'] = float('nan')\n",
    "    data[t]['ROE'] = data[t]['Net Income'] / data[t]['Avg Equity']\n",
    "    data[t].loc[(data[t]['Net Income']<0) | (data[t]['Avg Equity']<0) | (data[t]['Shareholders Equity']<0), 'ROE'] = float('nan')\n",
    "    data[t]['GP/A'] = data[t]['Gross Profit'] / data[t]['Avg Assets']   \n",
    "    data[t].loc[(data[t]['Gross Profit']<0) | (data[t]['Avg Assets']<0) | (data[t]['Total Assets']<0), 'GP/A'] = float('nan') \n",
    "    data[t]['GP/E'] = data[t]['Gross Profit'] / data[t]['Avg Equity']\n",
    "    # Stability\n",
    "    data[t]['Liability/Equity'] = data[t]['Total Liabilities'] / data[t]['Shareholders Equity']\n",
    "    data[t].loc[(data[t]['Shareholders Equity']<0), 'Liability/Equity'] = float('nan')\n",
    "    data[t]['Debt/Equity'] = (data[t]['Long Term Debt'] + data[t]['Current Debt']) / data[t]['Shareholders Equity']\n",
    "    data[t].loc[(data[t]['Shareholders Equity']<0), 'Debt/Equity'] = float('nan')\n",
    "    data[t]['Current Ratio'] = data[t]['Current Assets'] / data[t]['Current Liabilities']\n",
    "    data[t]['Share Increase'] =  data[t]['Shares'] / data[prev_t]['Shares'] \n",
    "    # Efficiency\n",
    "    data[t]['Gross Margin'] = data[t]['Gross Profit'] / data[t]['Revenue']\n",
    "    data[t]['Asset Turnover'] = data[t]['Revenue'] / data[t]['Avg Assets']\n",
    "    data[t]['Equity Turnover'] = data[t]['Revenue'] / data[t]['Avg Equity']\n",
    "    # Momentum\n",
    "    data[t]['Price Growth'] =  data[t]['Price_M3'] / data[prev_t]['Price_M3'] "
   ]
  },
  {
   "cell_type": "code",
   "execution_count": 22,
   "metadata": {
    "colab": {
     "base_uri": "https://localhost:8080/"
    },
    "id": "q5l7eVevpx5g",
    "outputId": "eda9cb4c-3027-4560-99b2-0ac03b319733"
   },
   "outputs": [
    {
     "name": "stdout",
     "output_type": "stream",
     "text": [
      "CAGR: 12.24%\n",
      "Accumulated return: 217.69%\n",
      "Investment period: 10.0yrs\n",
      "Sharpe ratio: 1.23\n",
      "MDD: -23.73%\n"
     ]
    }
   ],
   "source": [
    "# GP/E + 소형주 + 증자X + 고유동주\n",
    "s1 = {}\n",
    "s2 = {}\n",
    "s3 = {}\n",
    "s = {}\n",
    "signal = {}\n",
    "for t in terms:\n",
    "    s1[t] = fs.fn_score(data[t], by='GP/E', method='relative', floor=0, asc=False)    \n",
    "    s2[t] = fs.fn_filter(data[t], by='Market Cap', floor=0, n=1000, asc=True)\n",
    "    s3[t] = fs.fn_filter(data[t], by='Share Increase', floor=.9, cap=1)\n",
    "    s[t] = fs.combine_signal(s1[t], s2[t], s3[t], how='and', n=30)\n",
    "    signal[t] = list(s[t].index)\n",
    "df = fs.backtest(signal=signal, data=data, m=3, cost=.001)    "
   ]
  },
  {
   "cell_type": "code",
   "execution_count": null,
   "metadata": {},
   "outputs": [],
   "source": []
  },
  {
   "cell_type": "code",
   "execution_count": null,
   "metadata": {},
   "outputs": [],
   "source": []
  }
 ],
 "metadata": {
  "colab": {
   "collapsed_sections": [],
   "name": "ch7-3.ipynb",
   "provenance": []
  },
  "kernelspec": {
   "display_name": "Python 3",
   "language": "python",
   "name": "python3"
  },
  "language_info": {
   "codemirror_mode": {
    "name": "ipython",
    "version": 3
   },
   "file_extension": ".py",
   "mimetype": "text/x-python",
   "name": "python",
   "nbconvert_exporter": "python",
   "pygments_lexer": "ipython3",
   "version": "3.8.6"
  }
 },
 "nbformat": 4,
 "nbformat_minor": 4
}
