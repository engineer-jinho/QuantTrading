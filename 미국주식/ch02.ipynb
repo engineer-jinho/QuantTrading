{
  "nbformat": 4,
  "nbformat_minor": 0,
  "metadata": {
    "colab": {
      "provenance": [],
      "collapsed_sections": [],
      "toc_visible": true,
      "authorship_tag": "ABX9TyO7gwCKZpINZSNqt60Z0xGb",
      "include_colab_link": true
    },
    "kernelspec": {
      "name": "python3",
      "display_name": "Python 3"
    },
    "language_info": {
      "name": "python"
    }
  },
  "cells": [
    {
      "cell_type": "markdown",
      "metadata": {
        "id": "view-in-github",
        "colab_type": "text"
      },
      "source": [
        "<a href=\"https://colab.research.google.com/github/engineer-jinho/QuantTrading/blob/main/%EB%AF%B8%EA%B5%AD%EC%A3%BC%EC%8B%9D/ch02.ipynb\" target=\"_parent\"><img src=\"https://colab.research.google.com/assets/colab-badge.svg\" alt=\"Open In Colab\"/></a>"
      ]
    },
    {
      "cell_type": "markdown",
      "source": [
        "# 설치"
      ],
      "metadata": {
        "id": "vnW3I2xB7Aaw"
      }
    },
    {
      "cell_type": "code",
      "source": [
        "!pip install --target=$my_path finterstellar\n",
        "import finterstellar as fs"
      ],
      "metadata": {
        "id": "nhP5NQSg7vFq"
      },
      "execution_count": null,
      "outputs": []
    },
    {
      "cell_type": "markdown",
      "source": [
        "# 데이터 불러오기 --> 표현하기"
      ],
      "metadata": {
        "id": "A9xnnhSJ7BXV"
      }
    },
    {
      "cell_type": "code",
      "source": [
        "df = fs.get_price('AAPL', start_date='2020-01-01', end_date='2020-12-31')\n",
        "df"
      ],
      "metadata": {
        "id": "QyGalj0473Sc"
      },
      "execution_count": null,
      "outputs": []
    }
  ]
}